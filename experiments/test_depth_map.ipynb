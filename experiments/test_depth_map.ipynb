{
 "cells": [
  {
   "cell_type": "code",
   "execution_count": 1,
   "id": "22a8d5eb",
   "metadata": {},
   "outputs": [
    {
     "name": "stdout",
     "output_type": "stream",
     "text": [
      "Test 1 — Single sample\n",
      "Computed C = 0.864665, depth = 4.323324\n",
      "Expected C = 0.864665, expected depth = 4.323324\n",
      "\n",
      "Test 2 — Zero density\n",
      "Computed C = 0.000000, depth = 0.000000\n",
      "Expected C = 0.000000, depth = 0.000000\n",
      "\n",
      "Test 3 — First sample opaque\n",
      "Computed C = 1.000000, depth = 1.000000\n",
      "Expected C ≈ 1.000000, depth ≈ 1.000000\n"
     ]
    }
   ],
   "source": [
    "import numpy as np\n",
    "\n",
    "def compute_weights(sigma, delta):\n",
    "    # sigma, delta: arrays length N\n",
    "    tau = np.concatenate(([0], np.cumsum(sigma[:-1] * delta[:-1])))\n",
    "    T = np.exp(-tau)\n",
    "    w = T * (1 - np.exp(-sigma * delta))\n",
    "    return w\n",
    "\n",
    "def render_depth_and_opacity(sigma, delta, z):\n",
    "    w = compute_weights(sigma, delta)\n",
    "    C = np.sum(w)\n",
    "    depth = np.sum(w * z)\n",
    "    return C, depth\n",
    "\n",
    "# Test 1: Single sample\n",
    "sigma = np.array([2.0])\n",
    "delta = np.array([1.0])\n",
    "z = np.array([5.0])  # sample at depth 5\n",
    "C1, depth1 = render_depth_and_opacity(sigma, delta, z)\n",
    "expected_C1 = 1 - np.exp(-2.0)\n",
    "print(\"Test 1 — Single sample\")\n",
    "print(f\"Computed C = {C1:.6f}, depth = {depth1:.6f}\")\n",
    "print(f\"Expected C = {expected_C1:.6f}, expected depth = {expected_C1 * z[0]:.6f}\\n\")\n",
    "\n",
    "# Test 2: Zero density everywhere\n",
    "sigma = np.zeros(3)\n",
    "delta = np.ones(3)\n",
    "z = np.array([1.0, 2.0, 3.0])\n",
    "C2, depth2 = render_depth_and_opacity(sigma, delta, z)\n",
    "print(\"Test 2 — Zero density\")\n",
    "print(f\"Computed C = {C2:.6f}, depth = {depth2:.6f}\")\n",
    "print(\"Expected C = 0.000000, depth = 0.000000\\n\")\n",
    "\n",
    "# Test 3: First sample fully opaque\n",
    "sigma = np.array([1e6, 1.0])\n",
    "delta = np.array([0.1, 0.1])\n",
    "z = np.array([1.0, 2.0])\n",
    "C3, depth3 = render_depth_and_opacity(sigma, delta, z)\n",
    "print(\"Test 3 — First sample opaque\")\n",
    "print(f\"Computed C = {C3:.6f}, depth = {depth3:.6f}\")\n",
    "print(\"Expected C ≈ 1.000000, depth ≈ 1.000000\")\n"
   ]
  },
  {
   "cell_type": "markdown",
   "id": "6ec133da",
   "metadata": {},
   "source": [
    "## Experiment of Sigma and its effective on the accaracy of the depth"
   ]
  },
  {
   "cell_type": "code",
   "execution_count": 2,
   "id": "0cf3fe85",
   "metadata": {},
   "outputs": [
    {
     "name": "stdout",
     "output_type": "stream",
     "text": [
      "Test — First sample opaque\n",
      "Computed C = 0.632121, depth = 1.896362\n"
     ]
    }
   ],
   "source": [
    "sigma = np.array([0, 0, 1])\n",
    "delta = np.ones(3)\n",
    "z = np.array([1.0, 2.0, 3.0])\n",
    "C3, depth3 = render_depth_and_opacity(sigma, delta, z)\n",
    "print(\"Test — First sample opaque\")\n",
    "print(f\"Computed C = {C3:.6f}, depth = {depth3:.6f}\")\n"
   ]
  },
  {
   "cell_type": "code",
   "execution_count": 3,
   "id": "42420ca9",
   "metadata": {},
   "outputs": [
    {
     "name": "stdout",
     "output_type": "stream",
     "text": [
      "Test — First sample opaque\n",
      "Computed C = 0.999955, depth = 2.999864\n"
     ]
    }
   ],
   "source": [
    "sigma = np.array([0, 0, 10])\n",
    "delta = np.ones(3)\n",
    "z = np.array([1.0, 2.0, 3.0])\n",
    "C3, depth3 = render_depth_and_opacity(sigma, delta, z)\n",
    "print(\"Test — First sample opaque\")\n",
    "print(f\"Computed C = {C3:.6f}, depth = {depth3:.6f}\")\n"
   ]
  },
  {
   "cell_type": "code",
   "execution_count": 4,
   "id": "95e1cf63",
   "metadata": {},
   "outputs": [
    {
     "name": "stdout",
     "output_type": "stream",
     "text": [
      "Test — First sample opaque\n",
      "Computed C = 1.000000, depth = 3.000000\n"
     ]
    }
   ],
   "source": [
    "sigma = np.array([0, 0, 1000])\n",
    "delta = np.ones(3)\n",
    "z = np.array([1.0, 2.0, 3.0])\n",
    "C3, depth3 = render_depth_and_opacity(sigma, delta, z)\n",
    "print(\"Test — First sample opaque\")\n",
    "print(f\"Computed C = {C3:.6f}, depth = {depth3:.6f}\")\n"
   ]
  },
  {
   "cell_type": "markdown",
   "id": "e9e9e9a8",
   "metadata": {},
   "source": [
    "We notice that at Z = 3.0 sigma has value </br> \n",
    "The value of sigma affects the accuracy of Depth map, here we notice when sigma increases at this value predicts it well"
   ]
  },
  {
   "cell_type": "markdown",
   "id": "cce324f8",
   "metadata": {},
   "source": [
    "## Experiment of depth could be zero but depends on C"
   ]
  },
  {
   "cell_type": "code",
   "execution_count": 5,
   "id": "1d96fc92",
   "metadata": {},
   "outputs": [
    {
     "name": "stdout",
     "output_type": "stream",
     "text": [
      "[ 1  2  3  4  5  6  7  8  9 10]\n",
      "Test  — Zero density\n",
      "Computed C = 0.000000, depth = 0.000000\n"
     ]
    }
   ],
   "source": [
    "sigma = np.zeros(10)\n",
    "delta = np.ones(10)\n",
    "z = np.arange(1, 11)\n",
    "print(z)\n",
    "C2, depth2 = render_depth_and_opacity(sigma, delta, z)\n",
    "print(\"Test  — Zero density\")\n",
    "print(f\"Computed C = {C2:.6f}, depth = {depth2:.6f}\")\n"
   ]
  },
  {
   "cell_type": "code",
   "execution_count": 6,
   "id": "f8cf099b",
   "metadata": {},
   "outputs": [
    {
     "name": "stdout",
     "output_type": "stream",
     "text": [
      "[1000.    0.    0.    0.    0.    0.    0.    0.    0.    0.]\n",
      "[0.001 0.002 0.003 0.004 0.005 0.006 0.007 0.008 0.009 0.01 ]\n",
      "Test  — Zero density\n",
      "Computed C = 1.000000, depth = 0.001000\n"
     ]
    }
   ],
   "source": [
    "sigma = np.zeros(10)\n",
    "sigma[0] = 1000\n",
    "print(sigma)\n",
    "delta = np.ones(10)\n",
    "z = np.arange(1, 11) * 0.001\n",
    "print(z)\n",
    "C2, depth2 = render_depth_and_opacity(sigma, delta, z)\n",
    "print(\"Test  — Zero density\")\n",
    "print(f\"Computed C = {C2:.6f}, depth = {depth2:.6f}\")\n"
   ]
  },
  {
   "cell_type": "markdown",
   "id": "81064bb1",
   "metadata": {},
   "source": [
    "We notice that almost the tests their depth almost zero but <br>\n",
    "<li>in the first, free space and we can see its C = 0\n",
    "<li>in the Second, occupied space and we can see its C = 1"
   ]
  },
  {
   "cell_type": "markdown",
   "id": "cbd798bd",
   "metadata": {},
   "source": [
    "## We can infer that C could be see as certainity of this pixel occupied at this depth"
   ]
  }
 ],
 "metadata": {
  "kernelspec": {
   "display_name": ".venv",
   "language": "python",
   "name": "python3"
  },
  "language_info": {
   "codemirror_mode": {
    "name": "ipython",
    "version": 3
   },
   "file_extension": ".py",
   "mimetype": "text/x-python",
   "name": "python",
   "nbconvert_exporter": "python",
   "pygments_lexer": "ipython3",
   "version": "3.10.12"
  }
 },
 "nbformat": 4,
 "nbformat_minor": 5
}
