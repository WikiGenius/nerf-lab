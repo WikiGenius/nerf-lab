{
 "cells": [
  {
   "attachments": {
    "image.png": {
     "image/png": "[encoded data removed]"
    }
   },
   "cell_type": "markdown",
   "id": "5d2d7dab",
   "metadata": {},
   "source": [
    "![image.png](attachment:image.png)"
   ]
  },
  {
   "cell_type": "code",
   "execution_count": 1,
   "id": "38cceba0",
   "metadata": {},
   "outputs": [
    {
     "data": {
      "text/plain": [
       "<torch._C.Generator at 0x7c7697164db0>"
      ]
     },
     "execution_count": 1,
     "metadata": {},
     "output_type": "execute_result"
    }
   ],
   "source": [
    "import numpy as np\n",
    "import matplotlib.pyplot as plt\n",
    "import torch\n",
    "import torch.nn as nn\n",
    "import torch.nn.functional as F\n",
    "\n",
    "torch.random.manual_seed(0)"
   ]
  },
  {
   "cell_type": "code",
   "execution_count": 2,
   "id": "6f976138",
   "metadata": {},
   "outputs": [],
   "source": [
    "def get_c(sigma, s):\n",
    "  w = torch.trapezoid(sigma, s, dim=-1)\n",
    "  C = 1 - torch.exp(-w)\n",
    "  \n",
    "  return C"
   ]
  },
  {
   "cell_type": "code",
   "execution_count": 3,
   "id": "e02bf69d",
   "metadata": {},
   "outputs": [],
   "source": [
    "# --------------- a. Synthetic demo data (replace with your loader) ------------\n",
    "R, N = 8, 128                         \n",
    "case = 2"
   ]
  },
  {
   "cell_type": "code",
   "execution_count": 4,
   "id": "3c2954af",
   "metadata": {},
   "outputs": [],
   "source": [
    "def get_case(case):\n",
    "  if case == 1:\n",
    "    s = torch.rand(R, N)                  # sample positions (shuffled, just for demo)\n",
    "    s, _ = torch.sort(s, dim=-1)          # sort so they go from s0→s1\n",
    "    sigma_true = torch.sin(4*s) + 2       # some \"ground-truth\" σ(s)\n",
    "  elif case == 2:\n",
    "    s = torch.rand(R, N) * 0.5 * torch.pi                  \n",
    "    s, _ = torch.sort(s, dim=-1)          #\n",
    "    sigma_true = torch.clip(20 * torch.sin(4*s), 0, 1000)\n",
    "  return sigma_true, s \n",
    "\n",
    "sigma_true, s = get_case(case)\n",
    "\n",
    "C = get_c(sigma_true, s)   # ground-truth integral\n",
    "\n",
    "# Send everything to the same device\n",
    "device = torch.device(\"cuda\" if torch.cuda.is_available() else \"cpu\")\n",
    "s, C = s.to(device), C.to(device)"
   ]
  },
  {
   "cell_type": "code",
   "execution_count": 5,
   "id": "4af73cd4",
   "metadata": {},
   "outputs": [
    {
     "name": "stdout",
     "output_type": "stream",
     "text": [
      "tensor(0.0001, device='cuda:0')\n",
      "tensor(1.5705, device='cuda:0')\n"
     ]
    }
   ],
   "source": [
    "print(torch.min(s))\n",
    "print(torch.max(s))"
   ]
  },
  {
   "cell_type": "code",
   "execution_count": 6,
   "id": "12055228",
   "metadata": {},
   "outputs": [
    {
     "data": {
      "text/plain": [
       "Sequential(\n",
       "  (0): Linear(in_features=1, out_features=64, bias=True)\n",
       "  (1): ReLU()\n",
       "  (2): Linear(in_features=64, out_features=1, bias=True)\n",
       "  (3): Softplus(beta=1.0, threshold=20.0)\n",
       ")"
      ]
     },
     "execution_count": 6,
     "metadata": {},
     "output_type": "execute_result"
    }
   ],
   "source": [
    "class SigmaNet(nn.Module):\n",
    "    def __init__(self, *args, **kwargs):\n",
    "        super().__init__(*args, **kwargs)\n",
    "        self.layers = nn.Sequential(\n",
    "            nn.Linear(1, 64), nn.ReLU(), nn.Linear(64, 1), nn.Softplus()\n",
    "        )\n",
    "\n",
    "    def forward(self, x):\n",
    "        return self.layers(x.unsqueeze(-1)).squeeze(-1)\n",
    "      \n",
    "model = SigmaNet()\n",
    "model = model.to(device)\n",
    "model.layers"
   ]
  },
  {
   "cell_type": "code",
   "execution_count": 7,
   "id": "30a8f632",
   "metadata": {},
   "outputs": [],
   "source": [
    "def forward_pass(model, s):\n",
    "  sig_hat = model(s)\n",
    "  C_hat = get_c(sig_hat, s)\n",
    "  return C_hat"
   ]
  },
  {
   "cell_type": "code",
   "execution_count": 8,
   "id": "dccc76d3",
   "metadata": {},
   "outputs": [
    {
     "name": "stdout",
     "output_type": "stream",
     "text": [
      "Initial:\n",
      "True C: tensor([1.0000, 1.0000, 1.0000, 1.0000, 1.0000, 1.0000, 1.0000, 1.0000],\n",
      "       device='cuda:0')\n",
      "pred C: tensor([0.6207, 0.6138, 0.6203, 0.6185, 0.6170, 0.6118, 0.6219, 0.6215],\n",
      "       device='cuda:0', grad_fn=<RsubBackward1>)\n",
      "Loss: 0.1457597017288208\n"
     ]
    }
   ],
   "source": [
    "print(f\"Initial:\")\n",
    "C_hat = forward_pass(model, s)\n",
    "print(f\"True C: {C}\")\n",
    "print(f\"pred C: {C_hat}\")\n",
    "print(f\"Loss: {F.mse_loss(C_hat, C)}\")"
   ]
  },
  {
   "cell_type": "code",
   "execution_count": 9,
   "id": "c19a75ad",
   "metadata": {},
   "outputs": [
    {
     "name": "stdout",
     "output_type": "stream",
     "text": [
      "epoch: 00 | loss: +0.15\n",
      "epoch: 10 | loss: +0.01\n",
      "epoch: 20 | loss: +0.01\n",
      "epoch: 30 | loss: +0.00\n",
      "epoch: 40 | loss: +0.00\n",
      "epoch: 50 | loss: +0.00\n",
      "epoch: 60 | loss: +0.00\n",
      "epoch: 70 | loss: +0.00\n",
      "epoch: 80 | loss: +0.00\n",
      "epoch: 90 | loss: +0.00\n",
      "epoch: 100 | loss: +0.00\n",
      "epoch: 110 | loss: +0.00\n",
      "epoch: 120 | loss: +0.00\n",
      "epoch: 130 | loss: +0.00\n",
      "epoch: 140 | loss: +0.00\n",
      "epoch: 150 | loss: +0.00\n",
      "epoch: 160 | loss: +0.00\n",
      "epoch: 170 | loss: +0.00\n",
      "epoch: 180 | loss: +0.00\n",
      "epoch: 190 | loss: +0.00\n",
      "epoch: 200 | loss: +0.00\n",
      "epoch: 210 | loss: +0.00\n",
      "epoch: 220 | loss: +0.00\n",
      "epoch: 230 | loss: +0.00\n",
      "epoch: 240 | loss: +0.00\n",
      "epoch: 250 | loss: +0.00\n",
      "epoch: 260 | loss: +0.00\n",
      "epoch: 270 | loss: +0.00\n",
      "epoch: 280 | loss: +0.00\n",
      "epoch: 290 | loss: +0.00\n",
      "epoch: 300 | loss: +0.00\n",
      "epoch: 310 | loss: +0.00\n",
      "epoch: 320 | loss: +0.00\n",
      "epoch: 330 | loss: +0.00\n",
      "epoch: 340 | loss: +0.00\n",
      "epoch: 350 | loss: +0.00\n",
      "epoch: 360 | loss: +0.00\n",
      "epoch: 370 | loss: +0.00\n",
      "epoch: 380 | loss: +0.00\n",
      "epoch: 390 | loss: +0.00\n",
      "epoch: 400 | loss: +0.00\n",
      "epoch: 410 | loss: +0.00\n",
      "epoch: 420 | loss: +0.00\n",
      "epoch: 430 | loss: +0.00\n",
      "epoch: 440 | loss: +0.00\n",
      "epoch: 450 | loss: +0.00\n",
      "epoch: 460 | loss: +0.00\n",
      "epoch: 470 | loss: +0.00\n",
      "epoch: 480 | loss: +0.00\n",
      "epoch: 490 | loss: +0.00\n",
      "epoch: 500 | loss: +0.00\n",
      "epoch: 510 | loss: +0.00\n",
      "epoch: 520 | loss: +0.00\n",
      "epoch: 530 | loss: +0.00\n",
      "epoch: 540 | loss: +0.00\n",
      "epoch: 550 | loss: +0.00\n",
      "epoch: 560 | loss: +0.00\n",
      "epoch: 570 | loss: +0.00\n",
      "epoch: 580 | loss: +0.00\n",
      "epoch: 590 | loss: +0.00\n",
      "epoch: 600 | loss: +0.00\n",
      "epoch: 610 | loss: +0.00\n",
      "epoch: 620 | loss: +0.00\n",
      "epoch: 630 | loss: +0.00\n",
      "epoch: 640 | loss: +0.00\n",
      "epoch: 650 | loss: +0.00\n",
      "epoch: 660 | loss: +0.00\n",
      "epoch: 670 | loss: +0.00\n",
      "epoch: 680 | loss: +0.00\n",
      "epoch: 690 | loss: +0.00\n",
      "epoch: 700 | loss: +0.00\n",
      "epoch: 710 | loss: +0.00\n",
      "epoch: 720 | loss: +0.00\n",
      "epoch: 730 | loss: +0.00\n",
      "epoch: 740 | loss: +0.00\n",
      "epoch: 750 | loss: +0.00\n",
      "epoch: 760 | loss: +0.00\n",
      "epoch: 770 | loss: +0.00\n",
      "epoch: 780 | loss: +0.00\n",
      "epoch: 790 | loss: +0.00\n",
      "epoch: 800 | loss: +0.00\n",
      "epoch: 810 | loss: +0.00\n",
      "epoch: 820 | loss: +0.00\n",
      "epoch: 830 | loss: +0.00\n",
      "epoch: 840 | loss: +0.00\n",
      "epoch: 850 | loss: +0.00\n",
      "epoch: 860 | loss: +0.00\n",
      "epoch: 870 | loss: +0.00\n",
      "epoch: 880 | loss: +0.00\n",
      "epoch: 890 | loss: +0.00\n",
      "epoch: 900 | loss: +0.00\n",
      "epoch: 910 | loss: +0.00\n",
      "epoch: 920 | loss: +0.00\n",
      "epoch: 930 | loss: +0.00\n",
      "epoch: 940 | loss: +0.00\n",
      "epoch: 950 | loss: +0.00\n",
      "epoch: 960 | loss: +0.00\n",
      "epoch: 970 | loss: +0.00\n",
      "epoch: 980 | loss: +0.00\n",
      "epoch: 990 | loss: +0.00\n"
     ]
    }
   ],
   "source": [
    "lr = 0.1\n",
    "epochs = 1000\n",
    "optimizer = torch.optim.SGD(model.parameters(), lr)\n",
    "loss_hist = []\n",
    "for epoch in range(epochs):\n",
    "  optimizer.zero_grad()\n",
    "  C_hat = forward_pass(model, s)\n",
    "  loss = F.mse_loss(C_hat, C)\n",
    "  loss_hist.append(loss.item())\n",
    "  loss.backward()\n",
    "  optimizer.step()\n",
    "  if epoch % 10 == 0:\n",
    "    print(f\"epoch: {epoch:02d} | loss: {loss:+.2f}\")\n",
    "    # print(f\"epoch: {epoch:02d} | loss: {loss:+.2f} | C:{C} | C_hat:{C_hat}\")\n",
    "  "
   ]
  },
  {
   "cell_type": "code",
   "execution_count": 10,
   "id": "e791e014",
   "metadata": {},
   "outputs": [
    {
     "name": "stdout",
     "output_type": "stream",
     "text": [
      "Final:\n",
      "True C: tensor([1.0000, 1.0000, 1.0000, 1.0000, 1.0000, 1.0000, 1.0000, 1.0000],\n",
      "       device='cuda:0')\n",
      "pred C: tensor([0.9919, 0.9914, 0.9920, 0.9919, 0.9917, 0.9910, 0.9920, 0.9920],\n",
      "       device='cuda:0', grad_fn=<RsubBackward1>)\n",
      "Loss: 6.770902837160975e-05\n"
     ]
    }
   ],
   "source": [
    "print(f\"Final:\")\n",
    "C_hat = forward_pass(model, s)\n",
    "print(f\"True C: {C}\")\n",
    "print(f\"pred C: {C_hat}\")\n",
    "print(f\"Loss: {F.mse_loss(C_hat, C)}\")"
   ]
  },
  {
   "cell_type": "code",
   "execution_count": 11,
   "id": "d838f3d4",
   "metadata": {},
   "outputs": [
    {
     "data": {
      "text/plain": [
       "Text(0.5, 1.0, 'Training ')"
      ]
     },
     "execution_count": 11,
     "metadata": {},
     "output_type": "execute_result"
    },
    {
     "data": {
      "image/png": "[encoded data removed]",
      "text/plain": [
       "<Figure size 640x480 with 1 Axes>"
      ]
     },
     "metadata": {},
     "output_type": "display_data"
    }
   ],
   "source": [
    "plt.plot(range(epochs), loss_hist)\n",
    "plt.xlabel('epochs')\n",
    "plt.ylabel('loss')\n",
    "plt.title(\"Training \")"
   ]
  },
  {
   "cell_type": "code",
   "execution_count": 12,
   "id": "8f8455ed",
   "metadata": {},
   "outputs": [
    {
     "name": "stdout",
     "output_type": "stream",
     "text": [
      "Sigma True: tensor([[0.1553, 0.6448, 2.5535,  ..., 0.0000, 0.0000, 0.0000],\n",
      "        [2.0640, 2.2302, 4.0033,  ..., 0.0000, 0.0000, 0.0000],\n",
      "        [0.5561, 0.8456, 2.1265,  ..., 0.0000, 0.0000, 0.0000],\n",
      "        ...,\n",
      "        [2.0491, 4.1143, 5.1247,  ..., 0.0000, 0.0000, 0.0000],\n",
      "        [0.0100, 1.6221, 2.5260,  ..., 0.0000, 0.0000, 0.0000],\n",
      "        [0.0804, 0.3184, 0.3523,  ..., 0.0000, 0.0000, 0.0000]])\n",
      "Sigma predicted: tensor([[1.8818, 1.8895, 1.9213,  ..., 4.3066, 4.3326, 4.3779],\n",
      "        [1.9131, 1.9158, 1.9457,  ..., 4.3153, 4.3182, 4.3713],\n",
      "        [1.8881, 1.8928, 1.9141,  ..., 4.3032, 4.3825, 4.3852],\n",
      "        ...,\n",
      "        [1.9128, 1.9476, 1.9650,  ..., 4.3151, 4.3274, 4.3545],\n",
      "        [1.8795, 1.9057, 1.9208,  ..., 4.3782, 4.3804, 4.3835],\n",
      "        [1.8806, 1.8844, 1.8849,  ..., 4.3626, 4.3707, 4.3827]],\n",
      "       device='cuda:0', grad_fn=<SqueezeBackward1>)\n",
      "C True: tensor([1.0000, 1.0000, 1.0000, 1.0000, 1.0000, 1.0000, 1.0000, 1.0000],\n",
      "       device='cuda:0')\n",
      "C_hat: tensor([0.9919, 0.9914, 0.9920, 0.9919, 0.9917, 0.9910, 0.9920, 0.9920],\n",
      "       device='cuda:0', grad_fn=<RsubBackward1>)\n",
      "Loss: 6.770902837160975e-05\n"
     ]
    }
   ],
   "source": [
    "sig_hat = model(s)\n",
    "C_hat = forward_pass(model, s)\n",
    "print(f\"Sigma True: {sigma_true}\")\n",
    "print(f\"Sigma predicted: {sig_hat}\")\n",
    "print(f\"C True: {C}\")\n",
    "print(f\"C_hat: {C_hat}\")\n",
    "loss = F.mse_loss(C_hat, C)\n",
    "print(f\"Loss: {loss}\")"
   ]
  },
  {
   "cell_type": "code",
   "execution_count": 13,
   "id": "77860541",
   "metadata": {},
   "outputs": [
    {
     "data": {
      "text/plain": [
       "<matplotlib.legend.Legend at 0x7c755ca5f970>"
      ]
     },
     "execution_count": 13,
     "metadata": {},
     "output_type": "execute_result"
    },
    {
     "data": {
      "image/png": "[encoded data removed]",
      "text/plain": [
       "<Figure size 640x480 with 1 Axes>"
      ]
     },
     "metadata": {},
     "output_type": "display_data"
    }
   ],
   "source": [
    "idx = 0\n",
    "plt.plot(s[idx].detach().cpu().numpy(), sigma_true[idx].detach().cpu().numpy(), label='sigma_true');\n",
    "plt.plot(s[idx].detach().cpu().numpy(), sig_hat[idx].detach().cpu().numpy(), label='sigma_hat');\n",
    "plt.xlabel('s')\n",
    "plt.ylabel('sigma')\n",
    "plt.legend()"
   ]
  },
  {
   "cell_type": "markdown",
   "id": "9c2ae88c",
   "metadata": {},
   "source": [
    "## The conclstion: Also, I learned C but the hidden sigma not match"
   ]
  }
 ],
 "metadata": {
  "kernelspec": {
   "display_name": ".venv",
   "language": "python",
   "name": "python3"
  },
  "language_info": {
   "codemirror_mode": {
    "name": "ipython",
    "version": 3
   },
   "file_extension": ".py",
   "mimetype": "text/x-python",
   "name": "python",
   "nbconvert_exporter": "python",
   "pygments_lexer": "ipython3",
   "version": "3.10.12"
  }
 },
 "nbformat": 4,
 "nbformat_minor": 5
}
