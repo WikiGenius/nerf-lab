{
 "cells": [
  {
   "cell_type": "markdown",
   "id": "a964fff0",
   "metadata": {},
   "source": [
    "# Part 4 Solve the equations (neglict ci)"
   ]
  },
  {
   "cell_type": "markdown",
   "id": "433705f3",
   "metadata": {},
   "source": [
    "![image.png](data:image/png;base64,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)"
   ]
  },
  {
   "cell_type": "markdown",
   "id": "70d06a76",
   "metadata": {},
   "source": [
    "## import libraries"
   ]
  },
  {
   "cell_type": "code",
   "execution_count": 91,
   "id": "b8ce5f8d",
   "metadata": {},
   "outputs": [],
   "source": [
    "\"\"\"\n",
    "Re‑creates your current world + camera demo and opens a matplotlib window.\n",
    "Run:  python -m examples.demo_world\n",
    "\"\"\"\n",
    "import numpy as np\n",
    "from nerflab import (\n",
    "    Intrinsics, Camera, Box, Sphere, World, cartesian_to_spherical,\n",
    "    stratified_samples_batch, plot_world, CFG, pose_H, make_pose_cases\n",
    ")\n"
   ]
  },
  {
   "cell_type": "code",
   "execution_count": 92,
   "id": "8694bd3f",
   "metadata": {},
   "outputs": [
    {
     "name": "stdout",
     "output_type": "stream",
     "text": [
      "[[ 1.  0. -0.  0.]\n",
      " [-0.  1. -0.  0.]\n",
      " [ 0.  0.  1. 10.]\n",
      " [ 0.  0.  0.  1.]]\n"
     ]
    }
   ],
   "source": [
    "# build preset dictionary\n",
    "cases = make_pose_cases(axis_dist=10)\n",
    "\n",
    "# pick a view (e.g., diagonal)\n",
    "H_wc = pose_H(cases[\"+Z\"])  \n",
    "print(H_wc)"
   ]
  },
  {
   "cell_type": "code",
   "execution_count": null,
   "id": "924a5a59",
   "metadata": {},
   "outputs": [
    {
     "name": "stdout",
     "output_type": "stream",
     "text": [
      "points shape: (307200, 20, 3)\n"
     ]
    }
   ],
   "source": [
    "# --- camera ------------------------------------------------------------------\n",
    "intr  = Intrinsics(**CFG.intrinsics.__dict__)\n",
    "cam   = Camera(intr, H_wc,\n",
    "               t_bounds=(CFG.rays.t_near, CFG.rays.t_far))\n",
    "\n",
    "# --- sample rays -------------------------------------------------------------\n",
    "O_w, D_w = cam.get_rays(frame=\"world\")\n",
    "t, delta, pts = stratified_samples_batch(\n",
    "    O_w, D_w, CFG.rays.t_near, CFG.rays.t_far,\n",
    "    N=CFG.rays.N, deterministic=CFG.rays.deterministic\n",
    ")\n",
    "print(\"points shape:\", pts.shape)\n",
    "\n",
    "# Angles\n",
    "_, theta, phi = cartesian_to_spherical(pts)\n",
    "# --- visualise ---------------------------------------------------------------\n",
    "\n",
    "\n"
   ]
  }
 ],
 "metadata": {
  "kernelspec": {
   "display_name": ".venv",
   "language": "python",
   "name": "python3"
  },
  "language_info": {
   "codemirror_mode": {
    "name": "ipython",
    "version": 3
   },
   "file_extension": ".py",
   "mimetype": "text/x-python",
   "name": "python",
   "nbconvert_exporter": "python",
   "pygments_lexer": "ipython3",
   "version": "3.10.12"
  }
 },
 "nbformat": 4,
 "nbformat_minor": 5
}
